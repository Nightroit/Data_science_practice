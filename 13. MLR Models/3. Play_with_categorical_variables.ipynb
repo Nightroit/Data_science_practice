{
 "cells": [
  {
   "cell_type": "code",
   "execution_count": 53,
   "metadata": {},
   "outputs": [],
   "source": [
    "# Imports\n",
    "import pandas as pd\n",
    "from sklearn.model_selection import train_test_split\n",
    "from sklearn.linear_model import LinearRegression\n",
    "from sklearn.metrics import mean_squared_error\n",
    "\n",
    "data = {\n",
    "    'Price': [600, 450, 700, 500, 650, 800, 550, 750, 900, 1000],  # in thousands of dollars\n",
    "    'Area': [2000, 1500, 2500, 1800, 2200, 3000, 1700, 2400, 2800, 3200],  # in square feet\n",
    "    'Bedrooms': [3, 2, 4, 2, 3, 4, 2, 3, 4, 5],  # number of bedrooms\n",
    "    'Bathrooms': [2, 1, 3, 1, 2, 3, 1, 2, 3, 4],  # number of bathrooms\n",
    "    'Garage': [2, 1, 2, 0, 2, 3, 1, 2, 2, 3],  # number of garage spaces\n",
    "    'Year_Built': [2000, 1995, 2005, 1990, 2010, 2003, 1998, 2008, 2015, 2019],  # year built\n",
    "    'Environment': ['Urban', 'Suburban', 'Urban', 'Rural', 'Suburban', 'Urban', 'Rural', 'Suburban', 'Urban', 'Suburban']\n",
    "}\n",
    "\n",
    "# Create data frames\n",
    "df = pd.DataFrame(data)\n",
    "\n",
    "# Creating categorical column\n",
    "df = pd.get_dummies(df, columns=['Environment'], drop_first = True)[1:]\n",
    "columns = df.columns\n",
    "X = df.drop('Price', axis=1)\n",
    "Y = df['Price']\n",
    "\n"
   ]
  },
  {
   "cell_type": "code",
   "execution_count": 54,
   "metadata": {},
   "outputs": [],
   "source": [
    "# Split the data set\n",
    "X_train, X_test, y_train, y_test = train_test_split(X, Y, test_size=0.2, random_state=42)\n"
   ]
  },
  {
   "cell_type": "code",
   "execution_count": 60,
   "metadata": {},
   "outputs": [
    {
     "name": "stdout",
     "output_type": "stream",
     "text": [
      "[786.11111111]\n"
     ]
    }
   ],
   "source": [
    "model = LinearRegression()\n",
    "model.fit(X_train, y_train)\n",
    "prediction = model.predict(X_test)\n",
    "\n",
    "mse = mean_squared_error(y_test, prediction)\n",
    "\n",
    "new_house = pd.DataFrame({\n",
    "    'Area': [2000], # in square feet\n",
    "    'Bedrooms': [3],  # number of bedrooms\n",
    "    'Bathrooms': [2],  # number of bathrooms\n",
    "    'Garage': [2],  # number of garage spaces\n",
    "    'Year_Built': [2000],  # year built\n",
    "    'Environment_Suburban': [0],\n",
    "    'Environment_Urban': [0]\n",
    "})\n",
    "\n",
    "\n",
    "prediction = model.predict(new_house)\n",
    "print(prediction)"
   ]
  }
 ],
 "metadata": {
  "kernelspec": {
   "display_name": "Python 3",
   "language": "python",
   "name": "python3"
  },
  "language_info": {
   "codemirror_mode": {
    "name": "ipython",
    "version": 3
   },
   "file_extension": ".py",
   "mimetype": "text/x-python",
   "name": "python",
   "nbconvert_exporter": "python",
   "pygments_lexer": "ipython3",
   "version": "3.12.0"
  }
 },
 "nbformat": 4,
 "nbformat_minor": 2
}
