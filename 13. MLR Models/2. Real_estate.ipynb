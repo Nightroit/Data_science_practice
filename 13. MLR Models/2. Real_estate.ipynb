{
 "cells": [
  {
   "cell_type": "code",
   "execution_count": 1,
   "metadata": {},
   "outputs": [],
   "source": [
    "# Imports\n",
    "import pandas as pd\n",
    "from sklearn.model_selection import train_test_split\n",
    "from sklearn.linear_model import LinearRegression\n",
    "from sklearn.metrics import r2_score\n"
   ]
  },
  {
   "cell_type": "code",
   "execution_count": 32,
   "metadata": {},
   "outputs": [
    {
     "name": "stdout",
     "output_type": "stream",
     "text": [
      "0.5869467478463695\n",
      "0.7554676087091738\n",
      "0.9880944203925669\n",
      "0.9954932354803204\n",
      "0.9926450539244595\n",
      "1.0\n"
     ]
    }
   ],
   "source": [
    "data = {\n",
    "    'Size (sqft)': [1500, 1800, 1350, 2000, 1700, 1900, 1550, 1650, 2200, 1400],\n",
    "    'Bedrooms': [3, 4, 2, 3, 3, 4, 3, 2, 4, 2],\n",
    "    'Bathrooms': [2, 2, 1, 3, 2, 2, 2, 1, 3, 1],\n",
    "    'Garage Spaces': [2, 2, 1, 2, 1, 2, 1, 1, 2, 0],\n",
    "    'Year Built': [2005, 2008, 1998, 2010, 2000, 2006, 1999, 2003, 2015, 1995],\n",
    "    'Price (USD)': [250000, 300000, 200000, 350000, 280000, 320000, 270000, 230000, 400000, 180000]\n",
    "}\n"
   ]
  },
  {
   "cell_type": "code",
   "execution_count": null,
   "metadata": {},
   "outputs": [],
   "source": [
    "# Specifying Variables\n",
    "data_frame = pd.DataFrame(data)\n",
    "data_frame_length = len(data_frame.columns)-1\n",
    "features = data_frame.columns"
   ]
  },
  {
   "cell_type": "code",
   "execution_count": 34,
   "metadata": {},
   "outputs": [
    {
     "name": "stdout",
     "output_type": "stream",
     "text": [
      "0 0.5869467478463695\n",
      "1 0.7554676087091738\n",
      "2 0.9880944203925669\n",
      "3 0.9954932354803204\n",
      "4 0.9926450539244595\n",
      "5 1.0\n"
     ]
    }
   ],
   "source": [
    "# Co-relation between number of features and coefficient of determination\n",
    "def PredictBasedOnVariables(features):\n",
    "    X = data_frame[features]\n",
    "    y = data_frame['Price (USD)']\n",
    "\n",
    "    X_train, X_test, y_train, y_test = train_test_split(X, y ,random_state = 48, test_size = 0.2)\n",
    "\n",
    "    model = LinearRegression()\n",
    "    model.fit(X_train, y_train)\n",
    "    y_pred = model.predict(X_test)\n",
    "    r2 = r2_score(y_test, y_pred)\n",
    "    return r2\n",
    "\n",
    "temp_features = []\n",
    "for index, feature in enumerate(features):\n",
    "    temp_features.append(feature)\n",
    "    val = PredictBasedOnVariables(temp_features)\n",
    "    print(index, val)"
   ]
  }
 ],
 "metadata": {
  "kernelspec": {
   "display_name": "Python 3",
   "language": "python",
   "name": "python3"
  },
  "language_info": {
   "codemirror_mode": {
    "name": "ipython",
    "version": 3
   },
   "file_extension": ".py",
   "mimetype": "text/x-python",
   "name": "python",
   "nbconvert_exporter": "python",
   "pygments_lexer": "ipython3",
   "version": "3.12.0"
  }
 },
 "nbformat": 4,
 "nbformat_minor": 2
}
