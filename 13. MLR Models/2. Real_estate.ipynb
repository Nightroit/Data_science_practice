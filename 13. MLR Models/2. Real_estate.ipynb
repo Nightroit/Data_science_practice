{
 "cells": [
  {
   "cell_type": "code",
   "execution_count": 1,
   "metadata": {},
   "outputs": [],
   "source": [
    "# Imports\n",
    "import pandas as pd"
   ]
  },
  {
   "cell_type": "code",
   "execution_count": 14,
   "metadata": {},
   "outputs": [
    {
     "name": "stdout",
     "output_type": "stream",
     "text": [
      "Index(['Size (sqft)', 'Bedrooms', 'Bathrooms', 'Garage Spaces', 'Year Built',\n",
      "       'Price (USD)'],\n",
      "      dtype='object')\n"
     ]
    }
   ],
   "source": [
    "data = {\n",
    "    'Size (sqft)': [1500, 1800, 1350, 2000, 1700, 1900, 1550, 1650, 2200, 1400],\n",
    "    'Bedrooms': [3, 4, 2, 3, 3, 4, 3, 2, 4, 2],\n",
    "    'Bathrooms': [2, 2, 1, 3, 2, 2, 2, 1, 3, 1],\n",
    "    'Garage Spaces': [2, 2, 1, 2, 1, 2, 1, 1, 2, 0],\n",
    "    'Year Built': [2005, 2008, 1998, 2010, 2000, 2006, 1999, 2003, 2015, 1995],\n",
    "    'Price (USD)': [250000, 300000, 200000, 350000, 280000, 320000, 270000, 230000, 400000, 180000]\n",
    "}\n",
    "\n",
    "data_frame = pd.DataFrame(data)\n",
    "print(data_frame.columns[0:len(data_frame)-2])"
   ]
  }
 ],
 "metadata": {
  "kernelspec": {
   "display_name": "Python 3",
   "language": "python",
   "name": "python3"
  },
  "language_info": {
   "codemirror_mode": {
    "name": "ipython",
    "version": 3
   },
   "file_extension": ".py",
   "mimetype": "text/x-python",
   "name": "python",
   "nbconvert_exporter": "python",
   "pygments_lexer": "ipython3",
   "version": "3.12.0"
  }
 },
 "nbformat": 4,
 "nbformat_minor": 2
}
